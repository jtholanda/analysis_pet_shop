{
 "cells": [
  {
   "cell_type": "markdown",
   "id": "7dac9987",
   "metadata": {},
   "source": [
    "# LEITURA DOS CSV E ESCRITA EM ARQUIVO COMBINADO"
   ]
  },
  {
   "cell_type": "code",
   "execution_count": null,
   "id": "937f4028",
   "metadata": {},
   "outputs": [],
   "source": [
    "import pandas as pd\n",
    "\n",
    "# Definir o diretório onde estão os arquivos .csv\n",
    "# Use '.' para o diretório atual ou substitua pelo caminho da pasta\n",
    "loja = ''\n",
    "grupo = ''\n",
    "empresa = ''\n",
    "directory = 'D:/Dropbox/Documentos/Consultorias/'+empresa+'/'+loja+'/'+grupo+'/Presentes/Dados Brutos' \n",
    "currenty_time = pd.to_datetime('now').strftime('%Y-%m-%d %H:%M:%S').replace(\":\",\"_\")\n",
    "file_out = f\"/Arquivos Combinados/combined_file_{currenty_time}.csv\"\n",
    "reports = 'D:/Dropbox/Documentos/Consultorias/'+empresa+'/'+loja+'/'+grupo+'/Presentes/Reports' \n",
    "# Exemplo de uso\n",
    "combined_df, file_out  = uf.merge_csv_files_in_dataframe(directory, directory + file_out)\n",
    "data_out = f'{directory}/Dados Saída/{currenty_time}.csv'\n",
    "\n",
    "print(f'Todos os arquivos CSV foram combinados com sucesso e salvos em {file_out}!')"
   ]
  },
  {
   "cell_type": "code",
   "execution_count": null,
   "id": "0cce3fe5",
   "metadata": {},
   "outputs": [],
   "source": [
    "import sys\n",
    "sys.path.append('../analysis_pet_shop/') #  caminho relativo (supondo que a pasta modulos está um nível acima do notebook)\n",
    "import importlib\n",
    "import utils_graphics\n",
    "import utils_import as ui\n",
    "import utils_files as uf\n",
    "importlib.reload(utils_graphics)\n",
    "\n",
    "\"\"\"\n",
    "import sys\n",
    "sys.path.append('/caminho/para/a/pasta/modulos') # Caso o módulo esteja em uma pasta chamada modulos dentro de um diretório diferente:\n",
    "\n",
    "\n",
    "# Usando o módulo importlib\n",
    "import importlib.util\n",
    "import sys\n",
    "\n",
    "# Defina o caminho do módulo\n",
    "module_path = '/caminho/para/a/pasta/modulos/meu_modulo.py'\n",
    "\n",
    "# Carregue o módulo\n",
    "spec = importlib.util.spec_from_file_location(\"meu_modulo\", module_path)\n",
    "meu_modulo = importlib.util.module_from_spec(spec)\n",
    "sys.modules[\"meu_modulo\"] = meu_modulo\n",
    "spec.loader.exec_module(meu_modulo)\n",
    "\n",
    "# Agora você pode usar o módulo\n",
    "meu_modulo.sua_funcao()\n",
    "\n",
    "\n",
    "# Usando o ! para executar comandos do sistema\n",
    "!python3 /caminho/para/a/pasta/modulos/meu_modulo.py\n",
    "\n",
    "\"\"\"\n"
   ]
  },
  {
   "cell_type": "code",
   "execution_count": null,
   "id": "814af224",
   "metadata": {},
   "outputs": [],
   "source": [
    "ui.charge_reload()"
   ]
  },
  {
   "cell_type": "code",
   "execution_count": null,
   "id": "f0772e96",
   "metadata": {},
   "outputs": [],
   "source": [
    "# apresentação do df_combined\n",
    "df = combined_df\n",
    "df.head(10)"
   ]
  },
  {
   "cell_type": "code",
   "execution_count": null,
   "id": "899eadf1",
   "metadata": {},
   "outputs": [],
   "source": [
    "df.shape"
   ]
  },
  {
   "cell_type": "markdown",
   "id": "e0adaf83",
   "metadata": {},
   "source": [
    "# ANÁLISE DE VALORES REPETIDOS NO DATAFRAME"
   ]
  },
  {
   "cell_type": "code",
   "execution_count": null,
   "id": "5bc5a302",
   "metadata": {},
   "outputs": [],
   "source": [
    "import utils_prepared_data as upd\n",
    "# Coluna a ser analisada\n",
    "coluna = 'Numero da venda'\n",
    "\n",
    "num_repeated = upd.count_occurences(df, coluna)\n",
    "\n",
    "print(\"Valores repetidos e suas quantidades:\")\n",
    "print(num_repeated)"
   ]
  },
  {
   "cell_type": "code",
   "execution_count": null,
   "id": "a03dff66",
   "metadata": {},
   "outputs": [],
   "source": [
    "df.shape"
   ]
  },
  {
   "cell_type": "code",
   "execution_count": null,
   "id": "577f33e1",
   "metadata": {},
   "outputs": [],
   "source": [
    "df = upd.drop_repeated_column(df, coluna)"
   ]
  },
  {
   "cell_type": "code",
   "execution_count": null,
   "id": "7df849f2",
   "metadata": {},
   "outputs": [],
   "source": [
    "df.head(10)"
   ]
  },
  {
   "cell_type": "code",
   "execution_count": null,
   "id": "b8e6ed3f",
   "metadata": {},
   "outputs": [],
   "source": [
    "df.shape"
   ]
  },
  {
   "cell_type": "markdown",
   "id": "80e94b93",
   "metadata": {},
   "source": [
    "# AGRUPAMENTO DOS DADOS POR QUANTIDADE DE ATENDIMENTOS"
   ]
  },
  {
   "cell_type": "code",
   "execution_count": null,
   "id": "1622e520",
   "metadata": {},
   "outputs": [],
   "source": [
    "'''\n",
    "groupby('coluna_de_agrupamento').size(): \n",
    "Agrupa o DataFrame pela coluna especificada e conta o número de ocorrências em cada grupo.\n",
    "\n",
    "reset_index(name='contagem'): \n",
    "Restaura o índice, transformando-o em uma coluna e nomeia essa coluna de contagem como \"contagem\".\n",
    "'''\n",
    "column_date = 'Data Emissão'\n",
    "\n",
    "# Agrupar pelo valor de 'coluna_de_agrupamento' e contar ocorrências\n",
    "df_grouped = df.groupby(column_date).size().reset_index(name='Quantidade')\n",
    "\n",
    "df_grouped.head(10)"
   ]
  },
  {
   "cell_type": "code",
   "execution_count": null,
   "id": "9fccf5ff",
   "metadata": {},
   "outputs": [],
   "source": [
    "#column_date = 'Data Emissão'\n",
    "# Agrupando o DataFrame pela coluna 'coluna_de_agrupamento' e calculando a média\n",
    "#df_grouped = df.groupby(column_date).count().reset_index()\n",
    "\n",
    "# Selecionando apenas a coluna desejada e atualizando o DataFrame\n",
    "#df_grouped = df_grouped.loc[:, [column_date]]\n",
    "\n",
    "#print(df_grouped)"
   ]
  },
  {
   "cell_type": "code",
   "execution_count": null,
   "id": "436ee899",
   "metadata": {},
   "outputs": [],
   "source": [
    "df_grouped.dtypes"
   ]
  },
  {
   "cell_type": "code",
   "execution_count": null,
   "id": "39b4a57a",
   "metadata": {},
   "outputs": [],
   "source": [
    "# Converte a coluna 'Data Emissão' de 'object' para 'datetime'\n",
    "df_grouped['Data Emissão'] = pd.to_datetime(df_grouped['Data Emissão'], dayfirst=True)"
   ]
  },
  {
   "cell_type": "code",
   "execution_count": null,
   "id": "457b9178",
   "metadata": {},
   "outputs": [],
   "source": [
    "# Renomear as colunas\n",
    "df_grouped.rename(columns={'Data Emissão': 'date_service', 'Quantidade': 'count'}, inplace=True)"
   ]
  },
  {
   "cell_type": "code",
   "execution_count": null,
   "id": "0124d77d",
   "metadata": {},
   "outputs": [],
   "source": [
    "df_grouped.dtypes"
   ]
  },
  {
   "cell_type": "code",
   "execution_count": null,
   "id": "df16532f",
   "metadata": {},
   "outputs": [],
   "source": [
    "df_grouped.head(10)"
   ]
  },
  {
   "cell_type": "code",
   "execution_count": null,
   "id": "18dce049",
   "metadata": {},
   "outputs": [],
   "source": [
    "# Ordenar o DataFrame pela coluna 'data'\n",
    "df_grouped_sorted = df_grouped.sort_values(by='date_service')\n",
    "\n",
    "# Redefinir os índices\n",
    "df_grouped_sorted.reset_index(drop=True, inplace=True)"
   ]
  },
  {
   "cell_type": "code",
   "execution_count": null,
   "id": "972e6810",
   "metadata": {},
   "outputs": [],
   "source": [
    "df_grouped_sorted.head(10)"
   ]
  },
  {
   "cell_type": "markdown",
   "id": "335d2260",
   "metadata": {},
   "source": [
    "# INSERÇÃO DE COLUNAS DERIVADAS DA DATA DO SERVIÇO"
   ]
  },
  {
   "cell_type": "code",
   "execution_count": null,
   "id": "2693215a",
   "metadata": {},
   "outputs": [],
   "source": [
    "import utils_date as ud\n",
    "\n",
    "df = ud.get_all_columns(df_grouped_sorted,'date_service')\n",
    "# Converte a coluna de datas para dias corridos\n",
    "df['days_elapsed'] = (df['date_service'] - df['date_service'].min()).dt.days\n",
    "# A coluna para mover para o início\n",
    "coluna = df.pop('days_elapsed')\n",
    "df.insert(0, 'days_elapsed', coluna)"
   ]
  },
  {
   "cell_type": "code",
   "execution_count": null,
   "id": "19a7e603",
   "metadata": {},
   "outputs": [],
   "source": [
    "df.head(10)"
   ]
  },
  {
   "cell_type": "markdown",
   "id": "f2b64e1e",
   "metadata": {},
   "source": [
    "# ARQUIVO COM DADOS DE SAÍDA"
   ]
  },
  {
   "cell_type": "code",
   "execution_count": null,
   "id": "7b0cf008",
   "metadata": {},
   "outputs": [],
   "source": [
    "# Salvar como arquivo CSV no computador\n",
    "df.to_csv(data_out, index=False)  # index=False omite a coluna de índice"
   ]
  },
  {
   "cell_type": "markdown",
   "id": "873fc382",
   "metadata": {},
   "source": [
    "# ANÁLISE E VISUALIZAÇÃO DOS RESULTADOS"
   ]
  },
  {
   "cell_type": "code",
   "execution_count": null,
   "id": "32ff1ee8",
   "metadata": {
    "scrolled": false
   },
   "outputs": [],
   "source": [
    "# Identificação da análise\n",
    "\n",
    "print(f\"ANÁLISE DA QUANTIDADE DE ATENDIMENTOS {empresa.upper()} - {loja.upper()} - {grupo.upper()}\")\n",
    "\n",
    "# Estatísticas básicas gerais\n",
    "import utils_statistics as us\n",
    "import utils_graphics as ug\n",
    "from docx import Document\n",
    "\n",
    "# Crie um novo documento Word\n",
    "doc = Document()\n",
    "\n",
    "# Adicionando um título\n",
    "doc.add_heading('Conteúdo do Notebook', 0)\n",
    "\n",
    "# Suponha que você tenha um conteúdo que quer adicionar\n",
    "output = \"\"\"\n",
    "Este é o conteúdo da célula que você deseja exportar para o Word.\n",
    "Abaixo está um gráfico gerado durante a análise:\n",
    "\"\"\"\n",
    "\n",
    "# Adiciona o conteúdo textual ao documento\n",
    "doc.add_paragraph(output)\n",
    "\n",
    "\n",
    "\n",
    "image_path =  f'{reports}/{empresa}_{grupo}_{loja}_{currenty_time}.png'\n",
    "\n",
    "df_statistics = us.get_descriptive_statistics(df,'count')\n",
    "print(df_statistics.head())\n",
    "df_statistics_day_of_week = us.get_grouped_descriptive_statistics(df,'day_of_week','count')\n",
    "df_statistics_day_of_week = df_statistics_day_of_week[df_statistics_day_of_week['day_of_week'] != 'Sunday']\n",
    "df_statistics_day_of_week.sort_values(by='mean', ascending = True)\n",
    "print(df_statistics_day_of_week)\n",
    "\n",
    "# Adiciona o conteúdo textual ao documento\n",
    "doc.add_paragraph(str(df_statistics.head()))\n",
    "doc.add_paragraph(str(df_statistics_day_of_week.head()))\n",
    "\n",
    "ug.plot_weekday_means(df_statistics_day_of_week['day_of_week'], df_statistics_day_of_week['mean'],image_path)\n",
    "# Adiciona a imagem ao documento\n",
    "doc.add_picture(image_path)\n",
    "# Salva o documento\n",
    "doc.save(reports+'/output_notebook_com_imagem.docx')\n",
    "\n",
    "ug.plot_boxplot(df,'day_of_week','count')\n",
    "ug.plot_scatter_with_trendline(df,'date_service', 'count', 'day_of_week', 'Saturday')\n",
    "ug.plot_scatter_with_trendline(df,'date_service', 'count', 'day_of_week', 'Friday')\n",
    "ug.plot_scatter_with_trendline(df,'date_service', 'count', 'day_of_week', 'Monday' )\n",
    "ug.plot_scatter_with_trendline(df,'date_service', 'count', 'day_of_week', 'Tuesday')\n",
    "ug.plot_scatter_with_trendline(df,'date_service', 'count', 'day_of_week', 'Thursday')\n",
    "ug.plot_scatter_with_trendline(df,'date_service', 'count', 'day_of_week', 'Wednesday')\n",
    "\n",
    "# Calculando a média móvel agrupada por 'day_of_week'\n",
    "df['moving_avg_day_of_week'] = df.groupby('day_of_week')['count'].transform(lambda x: us.moving_average(x, 7))\n",
    "\n",
    "# Filtrando o DataFrame para obter a média móvel por dia da semana\n",
    "df_monday = df[df['day_of_week'] == 'Monday'] [ ['days_elapsed', 'moving_avg_day_of_week'] ]\n",
    "ug.plot_moving_average_by_day_of_week(df_monday,'days_elapsed', 'moving_avg_day_of_week', 'Monday')\n",
    "df_tuesday = df[df['day_of_week'] == 'Tuesday'] [ ['days_elapsed', 'moving_avg_day_of_week'] ]\n",
    "ug.plot_moving_average_by_day_of_week(df_tuesday,'days_elapsed', 'moving_avg_day_of_week', 'Tuesday')\n",
    "df_wednesday = df[df['day_of_week'] == 'Wednesday'] [ ['days_elapsed', 'moving_avg_day_of_week'] ]\n",
    "ug.plot_moving_average_by_day_of_week(df_wednesday,'days_elapsed', 'moving_avg_day_of_week', 'Wednesday')\n",
    "df_thursday = df[df['day_of_week'] == 'Thursday'] [ ['days_elapsed', 'moving_avg_day_of_week'] ]\n",
    "ug.plot_moving_average_by_day_of_week(df_thursday,'days_elapsed', 'moving_avg_day_of_week', 'Thursday')\n",
    "df_friday = df[df['day_of_week'] == 'Friday'] [ ['days_elapsed', 'moving_avg_day_of_week'] ]\n",
    "ug.plot_moving_average_by_day_of_week(df_friday,'days_elapsed', 'moving_avg_day_of_week', 'Friday')\n",
    "df_saturday = df[df['day_of_week'] == 'Saturday'] [ ['days_elapsed', 'moving_avg_day_of_week'] ]\n",
    "ug.plot_moving_average_by_day_of_week(df_saturday,'days_elapsed', 'moving_avg_day_of_week', 'Saturday')\n",
    "ug.plot_pareto(df, 'day_of_week', 'count' )\n",
    "df['moving_avg'] = us.moving_average(df['count'],7)\n",
    "\n",
    "# Média móvel segmentada por períodos\n",
    "ug.plot_moving_average_with_trendline(df['count'],df['moving_avg'],7,30,365*3,True)\n",
    "ug.plot_moving_average_with_trendline(df['count'],df['moving_avg'],7,30, 365*2, True)\n",
    "ug.plot_moving_average_with_trendline(df['count'],df['moving_avg'],7,30, 365+240, True)\n",
    "ug.plot_moving_average_with_trendline(df['count'],df['moving_avg'],7,30, 365+180, True)\n",
    "ug.plot_moving_average_with_trendline(df['count'],df['moving_avg'],7,30, 365, True)\n",
    "ug.plot_moving_average_with_trendline(df['count'],df['moving_avg'],7,30, 365+90, True)\n",
    "ug.plot_moving_average_with_trendline(df['count'],df['moving_avg'],7,30, 365, True)\n",
    "ug.plot_moving_average_with_trendline(df['count'],df['moving_avg'],7,30, 270, True)\n",
    "ug.plot_moving_average_with_trendline(df['count'],df['moving_avg'],7,30, 180, True)\n",
    "ug.plot_moving_average_with_trendline(df['count'],df['moving_avg'],7,30, 90, True)\n",
    "ug.plot_moving_average_with_trendline(df['count'],df['moving_avg'],7,30, 30, True)\n",
    "\n",
    "# Estatísticas por mês do ano\n",
    "df_statistics_day_of_week = us.get_grouped_descriptive_statistics(df,'year_month','count')\n",
    "df_statistics_day_of_week.sort_values(by='year_month', ascending = True)\n",
    "\n",
    "# Comparativo da quantidade de atendimentos por mês do ano\n",
    "ug.plot_column_chart_with_legend_stacked(df,'month','count','year')\n",
    "ug.plot_column_chart_with_legend_side_by_side(df,'month','count','year')"
   ]
  }
 ],
 "metadata": {
  "kernelspec": {
   "display_name": ".venv",
   "language": "python",
   "name": "python3"
  },
  "language_info": {
   "codemirror_mode": {
    "name": "ipython",
    "version": 3
   },
   "file_extension": ".py",
   "mimetype": "text/x-python",
   "name": "python",
   "nbconvert_exporter": "python",
   "pygments_lexer": "ipython3",
   "version": "3.11.5"
  }
 },
 "nbformat": 4,
 "nbformat_minor": 5
}
